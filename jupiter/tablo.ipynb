{
 "cells": [
  {
   "cell_type": "code",
   "execution_count": 1,
   "metadata": {},
   "outputs": [
    {
     "name": "stdout",
     "output_type": "stream",
     "text": [
      "haftalik_program.pdf adlı PDF dosyası başarıyla oluşturuldu.\n"
     ]
    }
   ],
   "source": [
    "from reportlab.lib.pagesizes import letter, landscape\n",
    "from reportlab.lib import colors\n",
    "from reportlab.platypus import SimpleDocTemplate, Table, TableStyle\n",
    "\n",
    "# Haftalık program verileri\n",
    "haftalik_program = [\n",
    "    [\"Gün\", \"Antrenman\", \"Süre\", \"Açıklama\"],\n",
    "    [\"Pazartesi\", \"Kardiyo ve Alt Vücut\", \"1 saat\", \"Koşu ve squatlar\"],\n",
    "    [\"Salı\", \"Üst Vücut ve Esneklik\", \"1 saat\", \"Bench press ve esneme\"],\n",
    "    [\"Çarşamba\", \"Dinlenme ve Esneme\", \"Dinlenme\", \"Yoga veya statik esneme\"],\n",
    "    # Diğer günler buraya eklenebilir\n",
    "]\n",
    "\n",
    "# PDF dosyası oluştur\n",
    "pdf_dosyasi = \"haftalik_program.pdf\"\n",
    "dokuman = SimpleDocTemplate(pdf_dosyasi, pagesize=landscape(letter))\n",
    "\n",
    "# Program tablosunu oluştur\n",
    "program_tablosu = Table(haftalik_program)\n",
    "program_tablosu.setStyle(TableStyle([('BACKGROUND', (0, 0), (-1, 0), colors.grey),\n",
    "                                    ('TEXTCOLOR', (0, 0), (-1, 0), colors.whitesmoke),\n",
    "                                    ('ALIGN', (0, 0), (-1, -1), 'CENTER'),\n",
    "                                    ('FONTNAME', (0, 0), (-1, 0), 'Helvetica-Bold'),\n",
    "                                    ('BOTTOMPADDING', (0, 0), (-1, 0), 12),\n",
    "                                    ('BACKGROUND', (0, 1), (-1, -1), colors.beige)]))\n",
    "                                    \n",
    "# Tabloyu belgeye ekleyin\n",
    "elements = []\n",
    "elements.append(program_tablosu)\n",
    "dokuman.build(elements)\n",
    "\n",
    "print(f\"{pdf_dosyasi} adlı PDF dosyası başarıyla oluşturuldu.\")\n"
   ]
  }
 ],
 "metadata": {
  "kernelspec": {
   "display_name": "Python 3",
   "language": "python",
   "name": "python3"
  },
  "language_info": {
   "codemirror_mode": {
    "name": "ipython",
    "version": 3
   },
   "file_extension": ".py",
   "mimetype": "text/x-python",
   "name": "python",
   "nbconvert_exporter": "python",
   "pygments_lexer": "ipython3",
   "version": "3.10.12"
  },
  "orig_nbformat": 4
 },
 "nbformat": 4,
 "nbformat_minor": 2
}
